import math

volte_volute = 2 # numero minimo di volte che l'evento vuoi che accada
lasso_tempo = 6 # lasso di tempo di cui conosciamo probabilità di accadimento (secondi)
accade = 0.05 # probabilità che accada una volta in un lasso_tempo
durata = 600 # numero di secondi totali


def prob(x, dt, t, p):
    l = (t/dt)*p
    a = []
    for i in range(x):
        a.append((math.exp(-l)*(l**i))/math.factorial(i))
    return 1-sum(a)

print(f"La probabilità è {prob(volte_volute,lasso_tempo,durata,accade)}")
